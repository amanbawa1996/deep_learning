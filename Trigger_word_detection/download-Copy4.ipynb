{
 "cells": [
  {
   "cell_type": "code",
   "execution_count": 1,
   "metadata": {},
   "outputs": [
    {
     "name": "stdout",
     "output_type": "stream",
     "text": [
      "Building_a_Recurrent_Neural_Network_Step_by_Step_v3b.ipynb\n",
      "__pycache__/\n",
      "__pycache__/utils.cpython-36.pyc\n",
      "__pycache__/rnn_utils.cpython-36.pyc\n",
      "data/\n",
      "data/input.txt\n",
      "download.ipynb\n",
      "images/\n",
      "images/rnn_step_forward.png\n",
      "images/LSTM_rnn.png\n",
      "images/rnn_backward_overview_3a_1.png\n",
      "images/LSTM_cell_backward_rev3a_5.png\n",
      "images/LSTM_cell_backward_rev3a_c2.png\n",
      "images/rnn_cell_backward_3a_4.png\n",
      "images/rnn_step_forward_figure2_v3a.png\n",
      "images/rnn_forward_sequence_figure3_v3a.png\n",
      "images/RNN.png\n",
      "images/rnn.png\n",
      "images/rnn_cell_backprop.png\n",
      "images/LSTM_figure4_v3a.png\n",
      "images/initial_state.png\n",
      "images/rnn_cell_backward_3a_c.png\n",
      "images/LSTM.png\n",
      "previous versions/\n",
      "previous versions/.ipynb_checkpoints/\n",
      "previous versions/.ipynb_checkpoints/Building a Recurrent Neural Network - Step by Step - v2-checkpoint.ipynb\n",
      "previous versions/.ipynb_checkpoints/Building a Recurrent Neural Network - Step by Step - v1-checkpoint.ipynb\n",
      "previous versions/Building a Recurrent Neural Network - Step by Step - v1.ipynb\n",
      "previous versions/Building a Recurrent Neural Network - Step by Step - v2.ipynb\n",
      "rnn_utils.py\n",
      "shakespeare.txt\n",
      "utils.py\n"
     ]
    }
   ],
   "source": [
    "!tar chvfz Building_a_Recurrent_Neural_Network_Step_by_Step_v3b.tar.gz *"
   ]
  },
  {
   "cell_type": "code",
   "execution_count": 5,
   "metadata": {
    "collapsed": true
   },
   "outputs": [],
   "source": [
    "!split -b 100M Building_a_Recurrent_Neural_Network_Step_by_Step_v3b.tar.gz Building_a_Recurrent_Neural_Network_Step_by_Step.tar.gz.part. "
   ]
  },
  {
   "cell_type": "code",
   "execution_count": null,
   "metadata": {
    "collapsed": true
   },
   "outputs": [],
   "source": []
  }
 ],
 "metadata": {
  "kernelspec": {
   "display_name": "Python 3",
   "language": "python",
   "name": "python3"
  },
  "language_info": {
   "codemirror_mode": {
    "name": "ipython",
    "version": 3
   },
   "file_extension": ".py",
   "mimetype": "text/x-python",
   "name": "python",
   "nbconvert_exporter": "python",
   "pygments_lexer": "ipython3",
   "version": "3.6.0"
  }
 },
 "nbformat": 4,
 "nbformat_minor": 2
}
